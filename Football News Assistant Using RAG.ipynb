{
 "cells": [
  {
   "cell_type": "markdown",
   "id": "08d45f29",
   "metadata": {},
   "source": [
    "# Football News Assistant Using RAG"
   ]
  },
  {
   "cell_type": "code",
   "execution_count": 1,
   "id": "30ad5c32",
   "metadata": {},
   "outputs": [],
   "source": [
    "from uuid import uuid4\n",
    "from dotenv import load_dotenv\n",
    "from pathlib import Path\n",
    "from langchain.chains import RetrievalQAWithSourcesChain\n",
    "from langchain_community.document_loaders import UnstructuredURLLoader\n",
    "from langchain.text_splitter import RecursiveCharacterTextSplitter\n",
    "from langchain_chroma import Chroma\n",
    "from langchain_groq import ChatGroq\n",
    "from langchain_huggingface.embeddings import HuggingFaceEmbeddings\n"
   ]
  },
  {
   "cell_type": "code",
   "execution_count": 2,
   "id": "ef378b5d",
   "metadata": {},
   "outputs": [
    {
     "data": {
      "text/plain": [
       "True"
      ]
     },
     "execution_count": 2,
     "metadata": {},
     "output_type": "execute_result"
    }
   ],
   "source": [
    "load_dotenv()\n"
   ]
  },
  {
   "cell_type": "markdown",
   "id": "d71532ee",
   "metadata": {},
   "source": [
    "##  Define Constants and Globals"
   ]
  },
  {
   "cell_type": "code",
   "execution_count": 3,
   "id": "136175e6",
   "metadata": {},
   "outputs": [],
   "source": [
    "CHUNK_SIZE = 1000\n",
    "EMBEDDING_MODEL = \"sentence-transformers/all-MiniLM-L6-v2\"\n",
    "VECTORSTORE_DIR = Path().resolve() / \"resources/vectorstore\"\n",
    "COLLECTION_NAME = \"football_news\"\n",
    "\n",
    "llm = None\n",
    "vector_store = None\n"
   ]
  },
  {
   "cell_type": "markdown",
   "id": "4c8e0b6f",
   "metadata": {},
   "source": [
    "## Define the Initialization Function"
   ]
  },
  {
   "cell_type": "code",
   "execution_count": 4,
   "id": "a8be339e",
   "metadata": {},
   "outputs": [],
   "source": [
    "def initialize_components():\n",
    "    global llm, vector_store\n",
    "\n",
    "    if llm is None:\n",
    "        llm = ChatGroq(model=\"llama-3.3-70b-versatile\", temperature=0.9, max_tokens=500)\n",
    "\n",
    "    if vector_store is None:\n",
    "        ef = HuggingFaceEmbeddings(\n",
    "            model_name=EMBEDDING_MODEL,\n",
    "            model_kwargs={\"trust_remote_code\": True}\n",
    "        )\n",
    "\n",
    "        vector_store = Chroma(\n",
    "            collection_name=COLLECTION_NAME,\n",
    "            embedding_function=ef,\n",
    "            persist_directory=str(VECTORSTORE_DIR)\n",
    "        )"
   ]
  },
  {
   "cell_type": "markdown",
   "id": "da47f725",
   "metadata": {},
   "source": [
    " ## Define the URL Processing Function"
   ]
  },
  {
   "cell_type": "code",
   "execution_count": 5,
   "id": "be6fc3f9",
   "metadata": {},
   "outputs": [],
   "source": [
    "def process_urls(urls):\n",
    "    print(\"Initializing Components\")\n",
    "    initialize_components()\n",
    "\n",
    "    print(\"Resetting vector store...✅\")\n",
    "    vector_store.reset_collection()\n",
    "\n",
    "    print(\"Loading data...✅\")\n",
    "    loader = UnstructuredURLLoader(urls=urls)\n",
    "    data = loader.load()\n",
    "\n",
    "    print(\"Splitting text into chunks...✅\")\n",
    "    text_splitter = RecursiveCharacterTextSplitter(\n",
    "        separators=[\"\\n\\n\", \"\\n\", \".\", \" \"],\n",
    "        chunk_size=CHUNK_SIZE\n",
    "    )\n",
    "    docs = text_splitter.split_documents(data)\n",
    "\n",
    "    print(\"Add chunks to vector database...✅\")\n",
    "    uuids = [str(uuid4()) for _ in range(len(docs))]\n",
    "    vector_store.add_documents(docs, ids=uuids)\n",
    "\n",
    "    print(\"Done adding docs to vector database...✅\")"
   ]
  },
  {
   "cell_type": "markdown",
   "id": "029596f0",
   "metadata": {},
   "source": [
    "## Define the Query Function"
   ]
  },
  {
   "cell_type": "code",
   "execution_count": 6,
   "id": "016ec97f",
   "metadata": {},
   "outputs": [],
   "source": [
    "def generate_answer(query):\n",
    "    if not vector_store:\n",
    "        raise RuntimeError(\"Vector database is not initialized \")\n",
    "\n",
    "    chain = RetrievalQAWithSourcesChain.from_llm(llm=llm, retriever=vector_store.as_retriever())\n",
    "    result = chain.invoke({\"question\": query}, return_only_outputs=True)\n",
    "    sources = result.get(\"sources\", \"\")\n",
    "\n",
    "    return result['answer'], sources"
   ]
  },
  {
   "cell_type": "markdown",
   "id": "755374f1",
   "metadata": {},
   "source": [
    " ## Run URLS"
   ]
  },
  {
   "cell_type": "code",
   "execution_count": 7,
   "id": "2b7964e0",
   "metadata": {},
   "outputs": [
    {
     "name": "stdout",
     "output_type": "stream",
     "text": [
      "Initializing Components\n",
      "Resetting vector store...✅\n",
      "Loading data...✅\n",
      "Splitting text into chunks...✅\n",
      "Add chunks to vector database...✅\n",
      "Done adding docs to vector database...✅\n"
     ]
    }
   ],
   "source": [
    "urls= [\"https://supersport.com/football/spain/news/d403d482-9af8-4020-9ec9-9b7b6ba1297f/-we-can-do-big-things-worthy-of-real-madrid-says-alonso-as-he-starts-as-coach\"]\n",
    "process_urls(urls)"
   ]
  },
  {
   "cell_type": "markdown",
   "id": "6c150d54",
   "metadata": {},
   "source": [
    "## Ask  Question "
   ]
  },
  {
   "cell_type": "code",
   "execution_count": null,
   "id": "0b032164",
   "metadata": {},
   "outputs": [],
   "source": [
    "answer, sources = generate_answer(\"What did Xabi Alonso say about his plans as Real Madrid coach?\")\n",
    "print(f\"Answer: {answer}\")\n",
    "print(f\"Sources: {sources}\")"
   ]
  },
  {
   "cell_type": "markdown",
   "id": "5f0e29d7",
   "metadata": {},
   "source": [
    "## User Interface using Gradio"
   ]
  },
  {
   "cell_type": "code",
   "execution_count": 9,
   "id": "3b3f51f9",
   "metadata": {},
   "outputs": [
    {
     "name": "stdout",
     "output_type": "stream",
     "text": [
      "Running on local URL:  http://127.0.0.1:7860\n",
      "\n",
      "To create a public link, set `share=True` in `launch()`.\n"
     ]
    },
    {
     "data": {
      "text/html": [
       "<div><iframe src=\"http://127.0.0.1:7860/\" width=\"100%\" height=\"500\" allow=\"autoplay; camera; microphone; clipboard-read; clipboard-write;\" frameborder=\"0\" allowfullscreen></iframe></div>"
      ],
      "text/plain": [
       "<IPython.core.display.HTML object>"
      ]
     },
     "metadata": {},
     "output_type": "display_data"
    },
    {
     "data": {
      "text/plain": []
     },
     "execution_count": 9,
     "metadata": {},
     "output_type": "execute_result"
    },
    {
     "name": "stdout",
     "output_type": "stream",
     "text": [
      " URL received: https://supersport.com/football/spain/news/d403d482-9af8-4020-9ec9-9b7b6ba1297f/-we-can-do-big-things-worthy-of-real-madrid-says-alonso-as-he-starts-as-coach\n",
      "Initializing Components\n",
      "Resetting vector store...✅\n",
      "Loading data...✅\n",
      "Splitting text into chunks...✅\n",
      "Add chunks to vector database...✅\n",
      "Done adding docs to vector database...✅\n"
     ]
    }
   ],
   "source": [
    "import gradio as gr\n",
    "\n",
    "\n",
    "\n",
    "def process_and_query(url, question):\n",
    "    try:\n",
    "        print(f\" URL received: {url}\")\n",
    "        process_urls([url])\n",
    "\n",
    "        answer, sources = generate_answer(question)\n",
    "        return f\"###  Answer\\n{answer}\\n\\n---\\n###  Sources\\n{sources}\"\n",
    "\n",
    "    except Exception as e:\n",
    "        return f\" Error: {str(e)}\"\n",
    "\n",
    "with gr.Blocks() as demo:\n",
    "    gr.Markdown(\"##  Football News Assistant\")\n",
    "    gr.Markdown(\"Enter a football news article URL and ask a question about it.\")\n",
    "\n",
    "    with gr.Row():\n",
    "        url_input = gr.Textbox(label=\"News Article URL\", placeholder=\"Paste a URL from SuperSport, etc.\")\n",
    "        question_input = gr.Textbox(label=\"Your Question\", placeholder=\"e.g. What did Xabi Alonso say?\")\n",
    "\n",
    "    submit_btn = gr.Button(\"Submit\")\n",
    "    output_md = gr.Markdown(\"\")\n",
    "\n",
    "    submit_btn.click(fn=process_and_query, inputs=[url_input, question_input], outputs=output_md)\n",
    "\n",
    "demo.launch()\n"
   ]
  },
  {
   "cell_type": "code",
   "execution_count": null,
   "id": "917f5e4e",
   "metadata": {},
   "outputs": [],
   "source": [
    "\n",
    "\n"
   ]
  },
  {
   "cell_type": "code",
   "execution_count": null,
   "id": "821d20bb",
   "metadata": {},
   "outputs": [],
   "source": []
  },
  {
   "cell_type": "code",
   "execution_count": null,
   "id": "55383308",
   "metadata": {},
   "outputs": [],
   "source": []
  }
 ],
 "metadata": {
  "kernelspec": {
   "display_name": "Python 3 (ipykernel)",
   "language": "python",
   "name": "python3"
  },
  "language_info": {
   "codemirror_mode": {
    "name": "ipython",
    "version": 3
   },
   "file_extension": ".py",
   "mimetype": "text/x-python",
   "name": "python",
   "nbconvert_exporter": "python",
   "pygments_lexer": "ipython3",
   "version": "3.9.13"
  }
 },
 "nbformat": 4,
 "nbformat_minor": 5
}
